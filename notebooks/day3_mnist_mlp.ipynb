{
 "cells": [
  {
   "cell_type": "code",
   "execution_count": 3,
   "id": "f5a1d72f-577c-4e7f-85ee-d2d03bf5dc61",
   "metadata": {},
   "outputs": [
    {
     "data": {
      "text/plain": [
       "<torch._C.Generator at 0x1f724716850>"
      ]
     },
     "execution_count": 3,
     "metadata": {},
     "output_type": "execute_result"
    }
   ],
   "source": [
    "# Cell 1: imports and seed\n",
    "import torch  # Brings in the core PyTorch library. You use it for tensors, autograd, device management, and basic ops\n",
    "import torch.nn as nn # torch.nn contains building blocks for neural networks (layers, containers, loss functions). Aliasing to nn is a widely used convention.\n",
    "import torch.optim as optim # torch.optim contains optimizers (SGD, Adam, etc.). Aliasing to optim keeps code concise.\n",
    "import torchvision  # torchvision supplies common vision datasets (MNIST, CIFAR), pretrained models, and utilities for image transforms.\n",
    "import torchvision.transforms as transforms # transforms provides functions to convert/augment images (e.g., ToTensor, cropping). We alias it for clarity.\n",
    "import matplotlib.pyplot as plt # For plotting training results or example images.\n",
    "\n",
    "torch.manual_seed(0)"
   ]
  },
  {
   "cell_type": "code",
   "execution_count": 8,
   "id": "f0147833-1bf0-4fcb-ac94-0b30decce493",
   "metadata": {},
   "outputs": [
    {
     "name": "stderr",
     "output_type": "stream",
     "text": [
      "100%|█████████████████████████████████████████████████████████████████████████████| 9.91M/9.91M [00:00<00:00, 13.8MB/s]\n",
      "100%|█████████████████████████████████████████████████████████████████████████████| 28.9k/28.9k [00:00<00:00, 1.82MB/s]\n",
      "100%|█████████████████████████████████████████████████████████████████████████████| 1.65M/1.65M [00:00<00:00, 9.77MB/s]\n",
      "100%|█████████████████████████████████████████████████████████████████████████████████████| 4.54k/4.54k [00:00<?, ?B/s]"
     ]
    },
    {
     "name": "stdout",
     "output_type": "stream",
     "text": [
      "Train size: 60000, Test size: 10000\n"
     ]
    },
    {
     "name": "stderr",
     "output_type": "stream",
     "text": [
      "\n"
     ]
    }
   ],
   "source": [
    "# Cell 2: dataset and loaders\n",
    "transform = transforms.Compose([transforms.ToTensor()])\n",
    "\n",
    "train_dataset = torchvision.datasets.MNIST(root='../data', train=True, transform=transform, download=True)\n",
    "test_dataset = torchvision.datasets.MNIST(root='../data', train=False, transform=transform, download=True)\n",
    "\n",
    "train_loader = torch.utils.data.DataLoader(dataset=train_dataset, batch_size=64, shuffle=True)\n",
    "test_loader = torch.utils.data.DataLoader(dataset=test_dataset, batch_size=1000, shuffle=False)\n",
    "\n",
    "print(f\"Train size: {len(train_dataset)}, Test size: {len(test_dataset)}\")"
   ]
  },
  {
   "cell_type": "code",
   "execution_count": 9,
   "id": "6b7fb7d2-147e-4ed1-8bf7-7bd1557d161c",
   "metadata": {},
   "outputs": [],
   "source": [
    "# Cell 3: model definition\n",
    "class MLP(nn.Module):\n",
    "    def __init__(self):\n",
    "        super().__init__()\n",
    "        self.fc1 = nn.Linear(28*28, 128)\n",
    "        self.relu = nn.ReLU()\n",
    "        self.fc2 = nn.Linear(128, 10)\n",
    "\n",
    "    def forward(self, x):\n",
    "        x = x.view(-1, 28*28)\n",
    "        x = self.relu(self.fc1(x))\n",
    "        x = self.fc2(x)\n",
    "        return x\n",
    "\n",
    "model = MLP()\n",
    "criterion = nn.CrossEntropyLoss()\n",
    "optimizer = optim.SGD(model.parameters(), lr=0.1)\n"
   ]
  },
  {
   "cell_type": "code",
   "execution_count": 10,
   "id": "a420e63c-9d67-40d4-8310-857a14e2d4ed",
   "metadata": {},
   "outputs": [
    {
     "name": "stdout",
     "output_type": "stream",
     "text": [
      "Batch 0, Loss: 2.3023\n",
      "Batch 100, Loss: 0.6428\n",
      "Batch 200, Loss: 0.3422\n",
      "Batch 300, Loss: 0.4669\n",
      "Batch 400, Loss: 0.5088\n",
      "Batch 500, Loss: 0.2350\n",
      "Batch 600, Loss: 0.2396\n",
      "Batch 700, Loss: 0.2746\n",
      "Batch 800, Loss: 0.1008\n",
      "Batch 900, Loss: 0.2032\n"
     ]
    }
   ],
   "source": [
    "model.train()\n",
    "for batch_idx, (data, target) in enumerate(train_loader):\n",
    "    optimizer.zero_grad()\n",
    "    output = model(data)\n",
    "    loss = criterion(output, target)\n",
    "    loss.backward()\n",
    "    optimizer.step()\n",
    "    if batch_idx % 100 == 0:\n",
    "        print(f\"Batch {batch_idx}, Loss: {loss.item():.4f}\")"
   ]
  },
  {
   "cell_type": "code",
   "execution_count": 11,
   "id": "b5cfe23c-5b5a-48f5-aae0-b67472746eca",
   "metadata": {},
   "outputs": [
    {
     "name": "stdout",
     "output_type": "stream",
     "text": [
      "Test Accuracy: 92.50%\n"
     ]
    }
   ],
   "source": [
    "# Cell 5: evaluation\n",
    "model.eval()\n",
    "correct = 0\n",
    "total = 0\n",
    "with torch.no_grad():\n",
    "    for data, target in test_loader:\n",
    "        outputs = model(data)\n",
    "        _, predicted = torch.max(outputs, 1)\n",
    "        total += target.size(0)\n",
    "        correct += (predicted == target).sum().item()\n",
    "\n",
    "print(f\"Test Accuracy: {100 * correct / total:.2f}%\")"
   ]
  },
  {
   "cell_type": "code",
   "execution_count": 12,
   "id": "fc58aa75-6a9f-4387-b7c4-63bb1d3cb051",
   "metadata": {},
   "outputs": [
    {
     "name": "stdout",
     "output_type": "stream",
     "text": [
      "Saved model to ../models/mlp_mnist.pth\n"
     ]
    }
   ],
   "source": [
    "# Cell 6: save model weights\n",
    "torch.save(model.state_dict(), '../models/mlp_mnist.pth')\n",
    "print(\"Saved model to ../models/mlp_mnist.pth\")"
   ]
  },
  {
   "cell_type": "code",
   "execution_count": null,
   "id": "200165c4-0d06-48d6-91bd-ea68325c7dc9",
   "metadata": {},
   "outputs": [],
   "source": []
  }
 ],
 "metadata": {
  "kernelspec": {
   "display_name": "Python 3 (ipykernel)",
   "language": "python",
   "name": "python3"
  },
  "language_info": {
   "codemirror_mode": {
    "name": "ipython",
    "version": 3
   },
   "file_extension": ".py",
   "mimetype": "text/x-python",
   "name": "python",
   "nbconvert_exporter": "python",
   "pygments_lexer": "ipython3",
   "version": "3.11.9"
  }
 },
 "nbformat": 4,
 "nbformat_minor": 5
}
