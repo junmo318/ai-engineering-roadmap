{
 "cells": [
  {
   "cell_type": "code",
   "execution_count": 1,
   "id": "82a14aab-9d4f-45e1-b6b0-9872dec9f0e0",
   "metadata": {},
   "outputs": [
    {
     "data": {
      "text/plain": [
       "<torch._C.Generator at 0x11fddcf68b0>"
      ]
     },
     "execution_count": 1,
     "metadata": {},
     "output_type": "execute_result"
    }
   ],
   "source": [
    "import torch\n",
    "import matplotlib.pyplot as plt\n",
    "\n",
    "torch.manual_seed(0)"
   ]
  },
  {
   "cell_type": "code",
   "execution_count": 2,
   "id": "19f3ae22-f403-40ec-8a0c-2d233ca9041d",
   "metadata": {},
   "outputs": [],
   "source": [
    "def relu(x):\n",
    "    return torch.maximum(torch.zeros_like(x), x)\n",
    "\n",
    "def sigmoid(x):\n",
    "    return 1 / (1 + torch.exp(-x))"
   ]
  },
  {
   "cell_type": "code",
   "execution_count": 3,
   "id": "36cf4c8b-15c4-4ddc-9f9d-765ab344cedc",
   "metadata": {},
   "outputs": [
    {
     "data": {
      "image/png": "[encoded data removed]",
      "text/plain": [
       "<Figure size 1000x400 with 2 Axes>"
      ]
     },
     "metadata": {},
     "output_type": "display_data"
    }
   ],
   "source": [
    "x = torch.linspace(-5, 5, 200)\n",
    "\n",
    "plt.figure(figsize=(10,4))\n",
    "\n",
    "plt.subplot(1,2,1)\n",
    "plt.plot(x.numpy(), relu(x).numpy())\n",
    "plt.title(\"ReLU Activation\")\n",
    "plt.grid(True)\n",
    "\n",
    "plt.subplot(1,2,2)\n",
    "plt.plot(x.numpy(), sigmoid(x).numpy())\n",
    "plt.title(\"Sigmoid Activation\")\n",
    "plt.grid(True)\n",
    "\n",
    "plt.show()"
   ]
  },
  {
   "cell_type": "code",
   "execution_count": 4,
   "id": "d3ce8201-27cb-43fc-b66c-be2d69b3037b",
   "metadata": {},
   "outputs": [
    {
     "name": "stdout",
     "output_type": "stream",
     "text": [
      "Epoch 0, Loss: 1.4435\n",
      "Epoch 10, Loss: 1.3357\n",
      "Epoch 20, Loss: 1.2672\n",
      "Epoch 30, Loss: 1.2213\n",
      "Epoch 40, Loss: 1.1888\n"
     ]
    }
   ],
   "source": [
    "# One neuron model: y = sigmoid(w*x + b)\n",
    "x = torch.linspace(-1, 1, 10).unsqueeze(1)\n",
    "y_true = 2*x + 1\n",
    "\n",
    "w = torch.randn(1,1, requires_grad=True)\n",
    "b = torch.randn(1, requires_grad=True)\n",
    "\n",
    "lr = 0.1\n",
    "for epoch in range(50):\n",
    "    # Forward pass\n",
    "    y_pred = sigmoid(x.mm(w) + b)\n",
    "    \n",
    "    # Loss\n",
    "    loss = ((y_pred - y_true) ** 2).mean()\n",
    "    \n",
    "    # Backward pass\n",
    "    loss.backward()\n",
    "    \n",
    "    # Update weights\n",
    "    with torch.no_grad():\n",
    "        w -= lr * w.grad\n",
    "        b -= lr * b.grad\n",
    "        w.grad.zero_()\n",
    "        b.grad.zero_()\n",
    "    \n",
    "    if epoch % 10 == 0:\n",
    "        print(f\"Epoch {epoch}, Loss: {loss.item():.4f}\")"
   ]
  },
  {
   "cell_type": "code",
   "execution_count": 5,
   "id": "3c19e33b-44b4-4d38-9216-a3d8fe42d0ec",
   "metadata": {},
   "outputs": [
    {
     "name": "stdout",
     "output_type": "stream",
     "text": [
      "Learned weight: 2.3985939025878906\n",
      "Learned bias: 0.45776090025901794\n"
     ]
    }
   ],
   "source": [
    "print(\"Learned weight:\", w.item())\n",
    "print(\"Learned bias:\", b.item())"
   ]
  },
  {
   "cell_type": "code",
   "execution_count": 6,
   "id": "279716fd-f0ff-4dbb-8b0a-14b668b72e79",
   "metadata": {},
   "outputs": [
    {
     "ename": "SyntaxError",
     "evalue": "invalid character '←' (U+2190) (3252085049.py, line 4)",
     "output_type": "error",
     "traceback": [
      "  \u001b[36mCell\u001b[39m\u001b[36m \u001b[39m\u001b[32mIn[6]\u001b[39m\u001b[32m, line 4\u001b[39m\n\u001b[31m    \u001b[39m\u001b[31mθ ← θ - η ∇L(θ)\u001b[39m\n      ^\n\u001b[31mSyntaxError\u001b[39m\u001b[31m:\u001b[39m invalid character '←' (U+2190)\n"
     ]
    }
   ],
   "source": [
    "### Gradient Descent & Backpropagation\n",
    "\n",
    "- **Gradient descent:** Iteratively updates parameters θ using:\n",
    "  θ ← θ - η ∇L(θ)\n",
    "  where η = learning rate.\n",
    "\n",
    "- **Backpropagation (autograd):** \n",
    "  PyTorch builds a computation graph and uses the chain rule to compute gradients of loss wrt each parameter.\n",
    "\n",
    "- **Activations:**\n",
    "  - ReLU(x) = max(0,x) → efficient, avoids vanishing gradients for positive x.\n",
    "  - Sigmoid(x) = 1/(1+e^-x) → maps to [0,1], but suffers vanishing gradients for large |x|.\n",
    "\n",
    "- **Takeaway:** Autograd + activations let us train nonlinear models efficiently. Today's toy neuron demonstrates how PyTorch automates the math of backprop."
   ]
  },
  {
   "cell_type": "code",
   "execution_count": null,
   "id": "c598597c-7358-4731-acb8-4c1161f68ff3",
   "metadata": {},
   "outputs": [],
   "source": []
  }
 ],
 "metadata": {
  "kernelspec": {
   "display_name": "Python 3 (ipykernel)",
   "language": "python",
   "name": "python3"
  },
  "language_info": {
   "codemirror_mode": {
    "name": "ipython",
    "version": 3
   },
   "file_extension": ".py",
   "mimetype": "text/x-python",
   "name": "python",
   "nbconvert_exporter": "python",
   "pygments_lexer": "ipython3",
   "version": "3.11.9"
  }
 },
 "nbformat": 4,
 "nbformat_minor": 5
}
